{
 "cells": [
  {
   "cell_type": "markdown",
   "id": "standing-abortion",
   "metadata": {},
   "source": [
    "\n",
    "<center>\n",
    "    <h1 style=\"color:orange\">Star Wars Character Image classifier</h1></center>\n"
   ]
  },
  {
   "cell_type": "markdown",
   "id": "patent-breakdown",
   "metadata": {},
   "source": [
    "<img src = \"https://media.giphy.com/media/2wGXK84nfEtR1JHe1H/giphy.gif\" />\n",
    "\n",
    "## May the force be with you :)"
   ]
  },
  {
   "cell_type": "code",
   "execution_count": 1,
   "id": "biological-zealand",
   "metadata": {},
   "outputs": [],
   "source": [
    "#hide\n",
    "from fastai.vision.all import *  \n",
    "from ipywidgets import *"
   ]
  },
  {
   "cell_type": "code",
   "execution_count": 2,
   "id": "legal-monroe",
   "metadata": {},
   "outputs": [],
   "source": [
    "#hide\n",
    "import ipywidgets as widgets           # line 7\n",
    "uploader = widgets.FileUpload() "
   ]
  },
  {
   "cell_type": "code",
   "execution_count": 3,
   "id": "editorial-browser",
   "metadata": {},
   "outputs": [],
   "source": [
    "#hide\n",
    "learn = load_learner('model.pkl')"
   ]
  },
  {
   "cell_type": "code",
   "execution_count": 4,
   "id": "decreased-retention",
   "metadata": {},
   "outputs": [],
   "source": [
    "out_pl = widgets.Output()"
   ]
  },
  {
   "cell_type": "code",
   "execution_count": 5,
   "id": "bulgarian-spiritual",
   "metadata": {},
   "outputs": [],
   "source": [
    "#hide\n",
    "lbl_pred = widgets.Label()\n",
    "lbl_pred_value = 'Please choose an image'\n",
    "# lbl_pred"
   ]
  },
  {
   "cell_type": "code",
   "execution_count": 10,
   "id": "divine-coral",
   "metadata": {},
   "outputs": [],
   "source": [
    "def helper(change):\n",
    "    img = PILImage.create(uploader.data[0])\n",
    "    out_pl.clear_output()\n",
    "    with out_pl:\n",
    "        display(img.to_thumb(256,256))\n",
    "\n",
    "    pred,pred_idx,probs = learn.predict(img)\n",
    "    \n",
    "    lbl_pred.value = f'Prediction: {pred}; Probability: {probs[pred_idx]:.04f}'\n"
   ]
  },
  {
   "cell_type": "code",
   "execution_count": 11,
   "id": "productive-drunk",
   "metadata": {},
   "outputs": [],
   "source": [
    "btn_run = widgets.Button(description='Classify')\n",
    "# btn_run"
   ]
  },
  {
   "cell_type": "code",
   "execution_count": 12,
   "id": "automotive-secretary",
   "metadata": {},
   "outputs": [],
   "source": [
    "btn_run.on_click(helper)"
   ]
  },
  {
   "cell_type": "code",
   "execution_count": 14,
   "id": "global-dining",
   "metadata": {},
   "outputs": [
    {
     "data": {
      "application/vnd.jupyter.widget-view+json": {
       "model_id": "9b55ff016cca4378a47498c69a9fa184",
       "version_major": 2,
       "version_minor": 0
      },
      "text/plain": [
       "VBox(children=(Label(value='Select an image'), FileUpload(value={'lukeskywalkeredit02.png': {'metadata': {'nam…"
      ]
     },
     "metadata": {},
     "output_type": "display_data"
    },
    {
     "data": {
      "text/html": [],
      "text/plain": [
       "<IPython.core.display.HTML object>"
      ]
     },
     "metadata": {},
     "output_type": "display_data"
    },
    {
     "data": {
      "text/html": [],
      "text/plain": [
       "<IPython.core.display.HTML object>"
      ]
     },
     "metadata": {},
     "output_type": "display_data"
    }
   ],
   "source": [
    "VBox([widgets.Label('Select an image'),uploader, btn_run, out_pl, lbl_pred])"
   ]
  },
  {
   "cell_type": "code",
   "execution_count": null,
   "id": "anonymous-methodology",
   "metadata": {},
   "outputs": [],
   "source": []
  }
 ],
 "metadata": {
  "kernelspec": {
   "display_name": "Python 3",
   "language": "python",
   "name": "python3"
  },
  "language_info": {
   "codemirror_mode": {
    "name": "ipython",
    "version": 3
   },
   "file_extension": ".py",
   "mimetype": "text/x-python",
   "name": "python",
   "nbconvert_exporter": "python",
   "pygments_lexer": "ipython3",
   "version": "3.8.8"
  }
 },
 "nbformat": 4,
 "nbformat_minor": 5
}
